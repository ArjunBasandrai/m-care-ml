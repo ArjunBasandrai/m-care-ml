{
 "cells": [
  {
   "cell_type": "code",
   "execution_count": 1,
   "id": "d050f106-3412-4790-be25-5cd4c39ec091",
   "metadata": {},
   "outputs": [],
   "source": [
    "import pandas as pd\n",
    "import numpy as np"
   ]
  },
  {
   "cell_type": "code",
   "execution_count": 2,
   "id": "b5e5c362-929d-44b1-a468-c9926cc58e2a",
   "metadata": {},
   "outputs": [],
   "source": [
    "import joblib\n",
    "model = joblib.load('models/model.pkl')"
   ]
  },
  {
   "cell_type": "code",
   "execution_count": 13,
   "id": "e929b51a-ff7d-40a6-8d73-4a8e2c66dfd2",
   "metadata": {},
   "outputs": [],
   "source": [
    "import os\n",
    "from sklearn.preprocessing import LabelEncoder\n",
    "\n",
    "x_encoders = []\n",
    "encoder_dir = \"encoders\"\n",
    "for encoder in os.listdir(encoder_dir):\n",
    "    path = os.path.join(encoder_dir, encoder)\n",
    "    le = LabelEncoder()\n",
    "    le.classes_ = np.load(path, allow_pickle=True)\n",
    "    x_encoders.append(le)"
   ]
  },
  {
   "cell_type": "code",
   "execution_count": 41,
   "id": "4c47831f-9897-4f0c-94a5-9bd54db69646",
   "metadata": {},
   "outputs": [],
   "source": [
    "data = {\n",
    "    \"Age\": \"35-40\",\n",
    "    \"Sad_Tearful\": \"Yes\",\n",
    "    \"Irritable\": \"Yes\",\n",
    "    \"Trouble_Sleeping\": \"Yes\",\n",
    "    \"Problems_Focusing\": \"No\",\n",
    "    \"Eating_Disorder\": \"Not at all\",\n",
    "    \"Guilt\": \"Yes\",\n",
    "    \"Problems_Bonding\": \"No\",\n",
    "    \"Suicide_Attempt\": \"Yes\"\n",
    "}"
   ]
  },
  {
   "cell_type": "code",
   "execution_count": 42,
   "id": "e7a340c2-507d-4a00-8f15-ed3b400d2096",
   "metadata": {},
   "outputs": [],
   "source": [
    "def predict(input):\n",
    "    if list(input.keys()) != ['Age', 'Sad_Tearful', 'Irritable', 'Trouble_Sleeping', 'Problems_Focusing', 'Eating_Disorder', 'Guilt', 'Problems_Bonding', 'Suicide_Attempt']:\n",
    "        print(\"Error: Invalid Input\")\n",
    "        return None\n",
    "    \n",
    "    test_df = pd.DataFrame([input])\n",
    "    for i, column in enumerate(test_df.columns):\n",
    "        le = x_encoders[i]\n",
    "        test_df[column] = le.transform(test_df[column])\n",
    "    pred = model.predict(test_df)\n",
    "    return pred[0]\n",
    "\n",
    "def check(data):\n",
    "    prediction = predict(data)\n",
    "    if prediction == None:\n",
    "        return None\n",
    "    return \"Signs of depression detected\" if prediction else \"Not depressed\""
   ]
  },
  {
   "cell_type": "code",
   "execution_count": 43,
   "id": "14f23d18-02a3-4b31-988d-2126851ecd6a",
   "metadata": {},
   "outputs": [
    {
     "data": {
      "text/plain": [
       "'Not depressed'"
      ]
     },
     "execution_count": 43,
     "metadata": {},
     "output_type": "execute_result"
    }
   ],
   "source": [
    "check(data)"
   ]
  }
 ],
 "metadata": {
  "kernelspec": {
   "display_name": "Python 3 (ipykernel)",
   "language": "python",
   "name": "python3"
  },
  "language_info": {
   "codemirror_mode": {
    "name": "ipython",
    "version": 3
   },
   "file_extension": ".py",
   "mimetype": "text/x-python",
   "name": "python",
   "nbconvert_exporter": "python",
   "pygments_lexer": "ipython3",
   "version": "3.12.0"
  }
 },
 "nbformat": 4,
 "nbformat_minor": 5
}
